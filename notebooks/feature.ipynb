{
 "cells": [
  {
   "cell_type": "code",
   "execution_count": 56,
   "metadata": {},
   "outputs": [],
   "source": [
    "import pandas as pd\n",
    "import numpy as np"
   ]
  },
  {
   "cell_type": "code",
   "execution_count": 57,
   "metadata": {},
   "outputs": [],
   "source": [
    "df = pd.read_csv(\"../source_data/data.csv\")"
   ]
  },
  {
   "cell_type": "code",
   "execution_count": 58,
   "metadata": {},
   "outputs": [
    {
     "name": "stdout",
     "output_type": "stream",
     "text": [
      "<class 'pandas.core.frame.DataFrame'>\n",
      "RangeIndex: 4920 entries, 0 to 4919\n",
      "Columns: 134 entries, itching to Unnamed: 133\n",
      "dtypes: float64(1), int64(132), object(1)\n",
      "memory usage: 5.0+ MB\n"
     ]
    }
   ],
   "source": [
    "df.info()"
   ]
  },
  {
   "cell_type": "code",
   "execution_count": 59,
   "metadata": {},
   "outputs": [],
   "source": [
    "\n",
    "df['prognosis'] = df['prognosis'].str.replace(' ', '_')"
   ]
  },
  {
   "cell_type": "code",
   "execution_count": 60,
   "metadata": {},
   "outputs": [
    {
     "name": "stdout",
     "output_type": "stream",
     "text": [
      "['Fungal_infection' 'Allergy' 'GERD' 'Chronic_cholestasis' 'Drug_Reaction'\n",
      " 'Peptic_ulcer_diseae' 'AIDS' 'Diabetes_' 'Gastroenteritis'\n",
      " 'Bronchial_Asthma' 'Hypertension_' 'Migraine' 'Cervical_spondylosis'\n",
      " 'Paralysis_(brain_hemorrhage)' 'Jaundice' 'Malaria' 'Chicken_pox'\n",
      " 'Dengue' 'Typhoid' 'hepatitis_A' 'Hepatitis_B' 'Hepatitis_C'\n",
      " 'Hepatitis_D' 'Hepatitis_E' 'Alcoholic_hepatitis' 'Tuberculosis'\n",
      " 'Common_Cold' 'Pneumonia' 'Dimorphic_hemmorhoids(piles)' 'Heart_attack'\n",
      " 'Varicose_veins' 'Hypothyroidism' 'Hyperthyroidism' 'Hypoglycemia'\n",
      " 'Osteoarthristis' 'Arthritis' '(vertigo)_Paroymsal__Positional_Vertigo'\n",
      " 'Acne' 'Urinary_tract_infection' 'Psoriasis' 'Impetigo']\n"
     ]
    }
   ],
   "source": [
    "unique_values = df['prognosis'].unique()\n",
    "print(unique_values)"
   ]
  },
  {
   "cell_type": "code",
   "execution_count": 61,
   "metadata": {},
   "outputs": [
    {
     "name": "stdout",
     "output_type": "stream",
     "text": [
      "41\n"
     ]
    }
   ],
   "source": [
    "unique_sum= df['prognosis'].nunique()\n",
    "print(unique_sum)"
   ]
  },
  {
   "cell_type": "code",
   "execution_count": 62,
   "metadata": {},
   "outputs": [
    {
     "name": "stdout",
     "output_type": "stream",
     "text": [
      "Dictionary with numbers as keys and their corresponding values:\n",
      "{0: 'Fungal_infection', 1: 'Allergy', 2: 'GERD', 3: 'Chronic_cholestasis', 4: 'Drug_Reaction', 5: 'Peptic_ulcer_diseae', 6: 'AIDS', 7: 'Diabetes_', 8: 'Gastroenteritis', 9: 'Bronchial_Asthma', 10: 'Hypertension_', 11: 'Migraine', 12: 'Cervical_spondylosis', 13: 'Paralysis_(brain_hemorrhage)', 14: 'Jaundice', 15: 'Malaria', 16: 'Chicken_pox', 17: 'Dengue', 18: 'Typhoid', 19: 'hepatitis_A', 20: 'Hepatitis_B', 21: 'Hepatitis_C', 22: 'Hepatitis_D', 23: 'Hepatitis_E', 24: 'Alcoholic_hepatitis', 25: 'Tuberculosis', 26: 'Common_Cold', 27: 'Pneumonia', 28: 'Dimorphic_hemmorhoids(piles)', 29: 'Heart_attack', 30: 'Varicose_veins', 31: 'Hypothyroidism', 32: 'Hyperthyroidism', 33: 'Hypoglycemia', 34: 'Osteoarthristis', 35: 'Arthritis', 36: '(vertigo)_Paroymsal__Positional_Vertigo', 37: 'Acne', 38: 'Urinary_tract_infection', 39: 'Psoriasis', 40: 'Impetigo'}\n"
     ]
    }
   ],
   "source": [
    "unique_values = df['prognosis'].unique()\n",
    "\n",
    "# Creating a dictionary to map unique values to unique numbers starting from 0\n",
    "value_to_number = {value: i for i, value in enumerate(unique_values)}\n",
    "\n",
    "# Reversing the key-value pairs to have numbers as keys and values as their corresponding column values\n",
    "number_to_value = {int_number: value for value, int_number in value_to_number.items()}\n",
    "\n",
    "print(\"Dictionary with numbers as keys and their corresponding values:\")\n",
    "print(number_to_value)"
   ]
  },
  {
   "cell_type": "code",
   "execution_count": 63,
   "metadata": {},
   "outputs": [],
   "source": [
    "unique_values = df['prognosis'].unique()\n",
    "value_to_number = {value: i for i, value in enumerate(unique_values)}\n",
    "\n",
    "# Converting the column values to their corresponding unique numbers\n",
    "df['prognosis'] = df['prognosis'].map(value_to_number)"
   ]
  },
  {
   "cell_type": "code",
   "execution_count": 64,
   "metadata": {},
   "outputs": [],
   "source": [
    "df.to_csv('../data/raw/hackathon_data.csv', index=False)\n"
   ]
  },
  {
   "cell_type": "markdown",
   "metadata": {},
   "source": []
  },
  {
   "cell_type": "code",
   "execution_count": 65,
   "metadata": {},
   "outputs": [],
   "source": [
    "data = pd.read_csv(\"../data/raw/hackathon_data.csv\")"
   ]
  },
  {
   "cell_type": "code",
   "execution_count": null,
   "metadata": {},
   "outputs": [],
   "source": [
    "df = df.drop('Unnamed: 133', axis=1)\n"
   ]
  },
  {
   "cell_type": "code",
   "execution_count": 66,
   "metadata": {},
   "outputs": [
    {
     "name": "stdout",
     "output_type": "stream",
     "text": [
      "<class 'pandas.core.frame.DataFrame'>\n",
      "RangeIndex: 4920 entries, 0 to 4919\n",
      "Columns: 134 entries, itching to Unnamed: 133\n",
      "dtypes: float64(1), int64(133)\n",
      "memory usage: 5.0 MB\n"
     ]
    }
   ],
   "source": [
    "data.info()"
   ]
  },
  {
   "cell_type": "code",
   "execution_count": 67,
   "metadata": {},
   "outputs": [
    {
     "name": "stdout",
     "output_type": "stream",
     "text": [
      "['itching', 'skin_rash', 'nodal_skin_eruptions', 'continuous_sneezing', 'shivering', 'chills', 'joint_pain', 'stomach_pain', 'acidity', 'ulcers_on_tongue', 'muscle_wasting', 'vomiting', 'burning_micturition', 'spotting_ urination', 'fatigue', 'weight_gain', 'anxiety', 'cold_hands_and_feets', 'mood_swings', 'weight_loss', 'restlessness', 'lethargy', 'patches_in_throat', 'irregular_sugar_level', 'cough', 'high_fever', 'sunken_eyes', 'breathlessness', 'sweating', 'dehydration', 'indigestion', 'headache', 'yellowish_skin', 'dark_urine', 'nausea', 'loss_of_appetite', 'pain_behind_the_eyes', 'back_pain', 'constipation', 'abdominal_pain', 'diarrhoea', 'mild_fever', 'yellow_urine', 'yellowing_of_eyes', 'acute_liver_failure', 'fluid_overload', 'swelling_of_stomach', 'swelled_lymph_nodes', 'malaise', 'blurred_and_distorted_vision', 'phlegm', 'throat_irritation', 'redness_of_eyes', 'sinus_pressure', 'runny_nose', 'congestion', 'chest_pain', 'weakness_in_limbs', 'fast_heart_rate', 'pain_during_bowel_movements', 'pain_in_anal_region', 'bloody_stool', 'irritation_in_anus', 'neck_pain', 'dizziness', 'cramps', 'bruising', 'obesity', 'swollen_legs', 'swollen_blood_vessels', 'puffy_face_and_eyes', 'enlarged_thyroid', 'brittle_nails', 'swollen_extremeties', 'excessive_hunger', 'extra_marital_contacts', 'drying_and_tingling_lips', 'slurred_speech', 'knee_pain', 'hip_joint_pain', 'muscle_weakness', 'stiff_neck', 'swelling_joints', 'movement_stiffness', 'spinning_movements', 'loss_of_balance', 'unsteadiness', 'weakness_of_one_body_side', 'loss_of_smell', 'bladder_discomfort', 'foul_smell_of urine', 'continuous_feel_of_urine', 'passage_of_gases', 'internal_itching', 'toxic_look_(typhos)', 'depression', 'irritability', 'muscle_pain', 'altered_sensorium', 'red_spots_over_body', 'belly_pain', 'abnormal_menstruation', 'dischromic _patches', 'watering_from_eyes', 'increased_appetite', 'polyuria', 'family_history', 'mucoid_sputum', 'rusty_sputum', 'lack_of_concentration', 'visual_disturbances', 'receiving_blood_transfusion', 'receiving_unsterile_injections', 'coma', 'stomach_bleeding', 'distention_of_abdomen', 'history_of_alcohol_consumption', 'fluid_overload.1', 'blood_in_sputum', 'prominent_veins_on_calf', 'palpitations', 'painful_walking', 'pus_filled_pimples', 'blackheads', 'scurring', 'skin_peeling', 'silver_like_dusting', 'small_dents_in_nails', 'inflammatory_nails', 'blister', 'red_sore_around_nose', 'yellow_crust_ooze', 'prognosis', 'Unnamed: 133']\n",
      "Number of elements in the list: 134\n"
     ]
    }
   ],
   "source": [
    "import csv\n",
    "\n",
    "file_path = '../data/raw/hackathon_data.csv'  # Replace 'your_file.csv' with your CSV file path\n",
    "\n",
    "# Open the CSV file in read mode\n",
    "with open(file_path, newline='') as csvfile:\n",
    "    csv_reader = csv.reader(csvfile)\n",
    "\n",
    "    # Read the first row\n",
    "    first_row = next(csv_reader)\n",
    "\n",
    "    # Print all elements from the first row as a list\n",
    "    print(first_row)\n",
    "    \n",
    "    num_elements = len(first_row)\n",
    "    print(\"Number of elements in the list:\", num_elements)\n"
   ]
  }
 ],
 "metadata": {
  "kernelspec": {
   "display_name": "snh",
   "language": "python",
   "name": "python3"
  },
  "language_info": {
   "codemirror_mode": {
    "name": "ipython",
    "version": 3
   },
   "file_extension": ".py",
   "mimetype": "text/x-python",
   "name": "python",
   "nbconvert_exporter": "python",
   "pygments_lexer": "ipython3",
   "version": "3.8.0"
  }
 },
 "nbformat": 4,
 "nbformat_minor": 2
}
